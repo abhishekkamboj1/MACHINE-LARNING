{
 "cells": [
  {
   "cell_type": "code",
   "execution_count": 1,
   "id": "82283924-c9fb-482d-8dae-9070689aca7c",
   "metadata": {},
   "outputs": [],
   "source": [
    "import numpy as np\n",
    "import pandas as pd \n",
    "import matplotlib.pyplot as plt\n",
    "import seaborn as sns"
   ]
  },
  {
   "cell_type": "code",
   "execution_count": 9,
   "id": "da595d9b-6d63-4806-8ca7-2b764fd78079",
   "metadata": {},
   "outputs": [
    {
     "data": {
      "text/html": [
       "<div>\n",
       "<style scoped>\n",
       "    .dataframe tbody tr th:only-of-type {\n",
       "        vertical-align: middle;\n",
       "    }\n",
       "\n",
       "    .dataframe tbody tr th {\n",
       "        vertical-align: top;\n",
       "    }\n",
       "\n",
       "    .dataframe thead th {\n",
       "        text-align: right;\n",
       "    }\n",
       "</style>\n",
       "<table border=\"1\" class=\"dataframe\">\n",
       "  <thead>\n",
       "    <tr style=\"text-align: right;\">\n",
       "      <th></th>\n",
       "      <th>Temperature (F)</th>\n",
       "      <th>Ice-cream Price ($)</th>\n",
       "      <th>Number of Tourists (thousands)</th>\n",
       "      <th>Ice Cream Sales ($,thousands)</th>\n",
       "      <th>Did it rain on that day?</th>\n",
       "    </tr>\n",
       "  </thead>\n",
       "  <tbody>\n",
       "    <tr>\n",
       "      <th>0</th>\n",
       "      <td>80.6</td>\n",
       "      <td>1.0</td>\n",
       "      <td>89.5</td>\n",
       "      <td>90</td>\n",
       "      <td>No</td>\n",
       "    </tr>\n",
       "    <tr>\n",
       "      <th>1</th>\n",
       "      <td>75.2</td>\n",
       "      <td>1.0</td>\n",
       "      <td>86.4</td>\n",
       "      <td>85</td>\n",
       "      <td>No</td>\n",
       "    </tr>\n",
       "    <tr>\n",
       "      <th>2</th>\n",
       "      <td>86.0</td>\n",
       "      <td>2.0</td>\n",
       "      <td>99.2</td>\n",
       "      <td>107</td>\n",
       "      <td>No</td>\n",
       "    </tr>\n",
       "    <tr>\n",
       "      <th>3</th>\n",
       "      <td>75.2</td>\n",
       "      <td>2.0</td>\n",
       "      <td>72.4</td>\n",
       "      <td>71</td>\n",
       "      <td>Yes</td>\n",
       "    </tr>\n",
       "    <tr>\n",
       "      <th>4</th>\n",
       "      <td>60.8</td>\n",
       "      <td>2.0</td>\n",
       "      <td>71.2</td>\n",
       "      <td>65</td>\n",
       "      <td>Yes</td>\n",
       "    </tr>\n",
       "  </tbody>\n",
       "</table>\n",
       "</div>"
      ],
      "text/plain": [
       "   Temperature (F)  Ice-cream Price ($)  Number of Tourists (thousands)  \\\n",
       "0             80.6                  1.0                            89.5   \n",
       "1             75.2                  1.0                            86.4   \n",
       "2             86.0                  2.0                            99.2   \n",
       "3             75.2                  2.0                            72.4   \n",
       "4             60.8                  2.0                            71.2   \n",
       "\n",
       "   Ice Cream Sales ($,thousands) Did it rain on that day?  \n",
       "0                             90                       No  \n",
       "1                             85                       No  \n",
       "2                            107                       No  \n",
       "3                             71                      Yes  \n",
       "4                             65                      Yes  "
      ]
     },
     "execution_count": 9,
     "metadata": {},
     "output_type": "execute_result"
    }
   ],
   "source": [
    "df=pd.read_csv(\"Icecream Sales wr Rain and Temperature.csv\")\n",
    "df.head(5)"
   ]
  },
  {
   "cell_type": "code",
   "execution_count": 11,
   "id": "3ec41f73-dec4-4d1f-b690-5da6a53bac69",
   "metadata": {},
   "outputs": [
    {
     "data": {
      "text/html": [
       "<div>\n",
       "<style scoped>\n",
       "    .dataframe tbody tr th:only-of-type {\n",
       "        vertical-align: middle;\n",
       "    }\n",
       "\n",
       "    .dataframe tbody tr th {\n",
       "        vertical-align: top;\n",
       "    }\n",
       "\n",
       "    .dataframe thead th {\n",
       "        text-align: right;\n",
       "    }\n",
       "</style>\n",
       "<table border=\"1\" class=\"dataframe\">\n",
       "  <thead>\n",
       "    <tr style=\"text-align: right;\">\n",
       "      <th></th>\n",
       "      <th>Temperature (F)</th>\n",
       "      <th>Ice-cream Price ($)</th>\n",
       "      <th>Number of Tourists (thousands)</th>\n",
       "      <th>Ice Cream Sales ($,thousands)</th>\n",
       "      <th>Did it rain on that day?</th>\n",
       "    </tr>\n",
       "  </thead>\n",
       "  <tbody>\n",
       "    <tr>\n",
       "      <th>15</th>\n",
       "      <td>64.4</td>\n",
       "      <td>0.75</td>\n",
       "      <td>52.1</td>\n",
       "      <td>53</td>\n",
       "      <td>Yes</td>\n",
       "    </tr>\n",
       "    <tr>\n",
       "      <th>16</th>\n",
       "      <td>71.6</td>\n",
       "      <td>0.75</td>\n",
       "      <td>88.4</td>\n",
       "      <td>75</td>\n",
       "      <td>Yes</td>\n",
       "    </tr>\n",
       "    <tr>\n",
       "      <th>17</th>\n",
       "      <td>86.0</td>\n",
       "      <td>0.75</td>\n",
       "      <td>95.2</td>\n",
       "      <td>99</td>\n",
       "      <td>No</td>\n",
       "    </tr>\n",
       "    <tr>\n",
       "      <th>18</th>\n",
       "      <td>78.8</td>\n",
       "      <td>2.00</td>\n",
       "      <td>81.9</td>\n",
       "      <td>81</td>\n",
       "      <td>No</td>\n",
       "    </tr>\n",
       "    <tr>\n",
       "      <th>19</th>\n",
       "      <td>77.0</td>\n",
       "      <td>2.00</td>\n",
       "      <td>87.9</td>\n",
       "      <td>88</td>\n",
       "      <td>No</td>\n",
       "    </tr>\n",
       "  </tbody>\n",
       "</table>\n",
       "</div>"
      ],
      "text/plain": [
       "    Temperature (F)  Ice-cream Price ($)  Number of Tourists (thousands)  \\\n",
       "15             64.4                 0.75                            52.1   \n",
       "16             71.6                 0.75                            88.4   \n",
       "17             86.0                 0.75                            95.2   \n",
       "18             78.8                 2.00                            81.9   \n",
       "19             77.0                 2.00                            87.9   \n",
       "\n",
       "    Ice Cream Sales ($,thousands) Did it rain on that day?  \n",
       "15                             53                      Yes  \n",
       "16                             75                      Yes  \n",
       "17                             99                       No  \n",
       "18                             81                       No  \n",
       "19                             88                       No  "
      ]
     },
     "execution_count": 11,
     "metadata": {},
     "output_type": "execute_result"
    }
   ],
   "source": [
    "df.tail(5)"
   ]
  },
  {
   "cell_type": "code",
   "execution_count": 13,
   "id": "8cc7e4cc-a18b-44ff-9159-8fca60a56295",
   "metadata": {},
   "outputs": [
    {
     "name": "stdout",
     "output_type": "stream",
     "text": [
      "<class 'pandas.core.frame.DataFrame'>\n",
      "RangeIndex: 20 entries, 0 to 19\n",
      "Data columns (total 5 columns):\n",
      " #   Column                          Non-Null Count  Dtype  \n",
      "---  ------                          --------------  -----  \n",
      " 0   Temperature (F)                 20 non-null     float64\n",
      " 1   Ice-cream Price ($)             20 non-null     float64\n",
      " 2   Number of Tourists (thousands)  20 non-null     float64\n",
      " 3   Ice Cream Sales ($,thousands)   20 non-null     int64  \n",
      " 4   Did it rain on that day?        20 non-null     object \n",
      "dtypes: float64(3), int64(1), object(1)\n",
      "memory usage: 932.0+ bytes\n"
     ]
    }
   ],
   "source": [
    "df.info()"
   ]
  },
  {
   "cell_type": "code",
   "execution_count": 15,
   "id": "1c656e20-e919-4159-8d66-1bb6f298cc8e",
   "metadata": {},
   "outputs": [
    {
     "data": {
      "text/html": [
       "<div>\n",
       "<style scoped>\n",
       "    .dataframe tbody tr th:only-of-type {\n",
       "        vertical-align: middle;\n",
       "    }\n",
       "\n",
       "    .dataframe tbody tr th {\n",
       "        vertical-align: top;\n",
       "    }\n",
       "\n",
       "    .dataframe thead th {\n",
       "        text-align: right;\n",
       "    }\n",
       "</style>\n",
       "<table border=\"1\" class=\"dataframe\">\n",
       "  <thead>\n",
       "    <tr style=\"text-align: right;\">\n",
       "      <th></th>\n",
       "      <th>Temperature (F)</th>\n",
       "      <th>Ice-cream Price ($)</th>\n",
       "      <th>Number of Tourists (thousands)</th>\n",
       "      <th>Ice Cream Sales ($,thousands)</th>\n",
       "    </tr>\n",
       "  </thead>\n",
       "  <tbody>\n",
       "    <tr>\n",
       "      <th>count</th>\n",
       "      <td>20.000000</td>\n",
       "      <td>20.000000</td>\n",
       "      <td>20.000000</td>\n",
       "      <td>20.000000</td>\n",
       "    </tr>\n",
       "    <tr>\n",
       "      <th>mean</th>\n",
       "      <td>73.130000</td>\n",
       "      <td>1.362500</td>\n",
       "      <td>78.955000</td>\n",
       "      <td>76.850000</td>\n",
       "    </tr>\n",
       "    <tr>\n",
       "      <th>std</th>\n",
       "      <td>7.598137</td>\n",
       "      <td>0.496534</td>\n",
       "      <td>10.992556</td>\n",
       "      <td>13.259654</td>\n",
       "    </tr>\n",
       "    <tr>\n",
       "      <th>min</th>\n",
       "      <td>60.800000</td>\n",
       "      <td>0.750000</td>\n",
       "      <td>52.100000</td>\n",
       "      <td>53.000000</td>\n",
       "    </tr>\n",
       "    <tr>\n",
       "      <th>25%</th>\n",
       "      <td>67.550000</td>\n",
       "      <td>1.000000</td>\n",
       "      <td>71.175000</td>\n",
       "      <td>66.750000</td>\n",
       "    </tr>\n",
       "    <tr>\n",
       "      <th>50%</th>\n",
       "      <td>75.200000</td>\n",
       "      <td>1.375000</td>\n",
       "      <td>76.600000</td>\n",
       "      <td>74.000000</td>\n",
       "    </tr>\n",
       "    <tr>\n",
       "      <th>75%</th>\n",
       "      <td>78.800000</td>\n",
       "      <td>2.000000</td>\n",
       "      <td>88.025000</td>\n",
       "      <td>85.750000</td>\n",
       "    </tr>\n",
       "    <tr>\n",
       "      <th>max</th>\n",
       "      <td>86.000000</td>\n",
       "      <td>2.000000</td>\n",
       "      <td>99.200000</td>\n",
       "      <td>107.000000</td>\n",
       "    </tr>\n",
       "  </tbody>\n",
       "</table>\n",
       "</div>"
      ],
      "text/plain": [
       "       Temperature (F)  Ice-cream Price ($)  Number of Tourists (thousands)  \\\n",
       "count        20.000000            20.000000                       20.000000   \n",
       "mean         73.130000             1.362500                       78.955000   \n",
       "std           7.598137             0.496534                       10.992556   \n",
       "min          60.800000             0.750000                       52.100000   \n",
       "25%          67.550000             1.000000                       71.175000   \n",
       "50%          75.200000             1.375000                       76.600000   \n",
       "75%          78.800000             2.000000                       88.025000   \n",
       "max          86.000000             2.000000                       99.200000   \n",
       "\n",
       "       Ice Cream Sales ($,thousands)  \n",
       "count                      20.000000  \n",
       "mean                       76.850000  \n",
       "std                        13.259654  \n",
       "min                        53.000000  \n",
       "25%                        66.750000  \n",
       "50%                        74.000000  \n",
       "75%                        85.750000  \n",
       "max                       107.000000  "
      ]
     },
     "execution_count": 15,
     "metadata": {},
     "output_type": "execute_result"
    }
   ],
   "source": [
    "df.describe()"
   ]
  },
  {
   "cell_type": "code",
   "execution_count": 17,
   "id": "59b6136d-46ac-4ee5-a76c-c209e492bc17",
   "metadata": {},
   "outputs": [
    {
     "data": {
      "text/plain": [
       "Temperature (F)                   0\n",
       "Ice-cream Price ($)               0\n",
       "Number of Tourists (thousands)    0\n",
       "Ice Cream Sales ($,thousands)     0\n",
       "Did it rain on that day?          0\n",
       "dtype: int64"
      ]
     },
     "execution_count": 17,
     "metadata": {},
     "output_type": "execute_result"
    }
   ],
   "source": [
    "df.isnull().sum()"
   ]
  },
  {
   "cell_type": "code",
   "execution_count": 19,
   "id": "721c6373-5331-4c20-bf63-ebdd29cf8b1d",
   "metadata": {},
   "outputs": [
    {
     "data": {
      "image/png": "[encoded data removed]",
      "text/plain": [
       "<Figure size 640x480 with 1 Axes>"
      ]
     },
     "metadata": {},
     "output_type": "display_data"
    },
    {
     "data": {
      "image/png": "[encoded data removed]",
      "text/plain": [
       "<Figure size 640x480 with 1 Axes>"
      ]
     },
     "metadata": {},
     "output_type": "display_data"
    },
    {
     "data": {
      "image/png": "[encoded data removed]",
      "text/plain": [
       "<Figure size 640x480 with 1 Axes>"
      ]
     },
     "metadata": {},
     "output_type": "display_data"
    },
    {
     "data": {
      "image/png": "[encoded data removed]",
      "text/plain": [
       "<Figure size 640x480 with 1 Axes>"
      ]
     },
     "metadata": {},
     "output_type": "display_data"
    }
   ],
   "source": [
    "for col in df.columns:\n",
    "    if df[col].dtype !='object':\n",
    "        plt.figure()\n",
    "        sns.boxplot(y=df[col])\n",
    "        plt.title(f'Box Plot of {col}')\n",
    "        plt.show()"
   ]
  },
  {
   "cell_type": "code",
   "execution_count": 21,
   "id": "f0aca509-c0ed-4161-bbfe-36926e27e348",
   "metadata": {},
   "outputs": [
    {
     "data": {
      "text/plain": [
       "<Axes: xlabel='Number of Tourists (thousands)', ylabel='Count'>"
      ]
     },
     "execution_count": 21,
     "metadata": {},
     "output_type": "execute_result"
    },
    {
     "data": {
      "image/png": "[encoded data removed]",
      "text/plain": [
       "<Figure size 640x480 with 1 Axes>"
      ]
     },
     "metadata": {},
     "output_type": "display_data"
    }
   ],
   "source": [
    "sns.histplot(data=df, x='Number of Tourists (thousands)')"
   ]
  },
  {
   "cell_type": "code",
   "execution_count": 27,
   "id": "f46cd3b2-7537-477c-98f9-54203cfefc57",
   "metadata": {},
   "outputs": [
    {
     "data": {
      "text/plain": [
       "<Axes: xlabel='Ice-cream Price ($)', ylabel='Count'>"
      ]
     },
     "execution_count": 27,
     "metadata": {},
     "output_type": "execute_result"
    },
    {
     "data": {
      "image/png": "[encoded data removed]",
      "text/plain": [
       "<Figure size 640x480 with 1 Axes>"
      ]
     },
     "metadata": {},
     "output_type": "display_data"
    }
   ],
   "source": [
    "sns.histplot(data=df, x='Ice-cream Price ($)')"
   ]
  },
  {
   "cell_type": "code",
   "execution_count": 29,
   "id": "4b32d91a-45f6-41b3-ac71-7b13f8aba090",
   "metadata": {},
   "outputs": [
    {
     "data": {
      "text/plain": [
       "<Axes: xlabel='Temperature (F)', ylabel='Number of Tourists (thousands)'>"
      ]
     },
     "execution_count": 29,
     "metadata": {},
     "output_type": "execute_result"
    },
    {
     "data": {
      "image/png": "[encoded data removed]",
      "text/plain": [
       "<Figure size 640x480 with 1 Axes>"
      ]
     },
     "metadata": {},
     "output_type": "display_data"
    }
   ],
   "source": [
    "sns.barplot(data=df, x='Temperature (F)', y='Number of Tourists (thousands)')"
   ]
  },
  {
   "cell_type": "code",
   "execution_count": 39,
   "id": "dffa4bd5-e56d-446f-8b6a-2bff3d6a82ec",
   "metadata": {},
   "outputs": [
    {
     "data": {
      "text/plain": [
       "<Axes: xlabel='Ice Cream Sales ($,thousands)', ylabel='Temperature (F)'>"
      ]
     },
     "execution_count": 39,
     "metadata": {},
     "output_type": "execute_result"
    },
    {
     "data": {
      "image/png": "[encoded data removed]",
      "text/plain": [
       "<Figure size 640x480 with 1 Axes>"
      ]
     },
     "metadata": {},
     "output_type": "display_data"
    }
   ],
   "source": [
    "sns.barplot(data=df, x='Ice Cream Sales ($,thousands)', y='Temperature (F)')"
   ]
  },
  {
   "cell_type": "code",
   "execution_count": 41,
   "id": "3b14219b-1549-42bc-b410-70c36e8501b5",
   "metadata": {},
   "outputs": [
    {
     "data": {
      "text/plain": [
       "Did it rain on that day?\n",
       "Yes    14\n",
       "No      6\n",
       "Name: count, dtype: int64"
      ]
     },
     "execution_count": 41,
     "metadata": {},
     "output_type": "execute_result"
    }
   ],
   "source": [
    "df['Did it rain on that day?'].value_counts()"
   ]
  },
  {
   "cell_type": "code",
   "execution_count": 45,
   "id": "558d2a20-0ac8-474d-adc5-56b78680d4c3",
   "metadata": {},
   "outputs": [
    {
     "data": {
      "image/png": "[encoded data removed]",
      "text/plain": [
       "<Figure size 640x480 with 1 Axes>"
      ]
     },
     "metadata": {},
     "output_type": "display_data"
    }
   ],
   "source": [
    "kk=sns.histplot(data=df, x='Did it rain on that day?')\n",
    "\n",
    "for sum in kk.containers:\n",
    "     kk.bar_label(sum)"
   ]
  },
  {
   "cell_type": "code",
   "execution_count": 47,
   "id": "f0d080a1-363b-4fc6-8266-5978e331deb8",
   "metadata": {},
   "outputs": [
    {
     "data": {
      "text/plain": [
       "(20, 5)"
      ]
     },
     "execution_count": 47,
     "metadata": {},
     "output_type": "execute_result"
    }
   ],
   "source": [
    "df.shape"
   ]
  },
  {
   "cell_type": "code",
   "execution_count": null,
   "id": "bc8adbc7-1df7-42d0-a0a2-fbf4fa5b5079",
   "metadata": {},
   "outputs": [],
   "source": []
  },
  {
   "cell_type": "code",
   "execution_count": 55,
   "id": "8028258b-4ce4-4496-bf88-b52318c2d9b3",
   "metadata": {},
   "outputs": [
    {
     "name": "stderr",
     "output_type": "stream",
     "text": [
      "C:\\Users\\abhis\\AppData\\Local\\Temp\\ipykernel_31600\\2559485380.py:1: FutureWarning: Downcasting behavior in `replace` is deprecated and will be removed in a future version. To retain the old behavior, explicitly call `result.infer_objects(copy=False)`. To opt-in to the future behavior, set `pd.set_option('future.no_silent_downcasting', True)`\n",
      "  df['Did it rain on that day?'] = df['Did it rain on that day?'].replace({'No': 0, 'Yes': 1})\n"
     ]
    }
   ],
   "source": [
    "df['Did it rain on that day?'] = df['Did it rain on that day?'].replace({'No': 0, 'Yes': 1})"
   ]
  },
  {
   "cell_type": "code",
   "execution_count": 57,
   "id": "176f75bf-dffa-4906-8cef-e756bce3a23e",
   "metadata": {},
   "outputs": [
    {
     "data": {
      "text/html": [
       "<div>\n",
       "<style scoped>\n",
       "    .dataframe tbody tr th:only-of-type {\n",
       "        vertical-align: middle;\n",
       "    }\n",
       "\n",
       "    .dataframe tbody tr th {\n",
       "        vertical-align: top;\n",
       "    }\n",
       "\n",
       "    .dataframe thead th {\n",
       "        text-align: right;\n",
       "    }\n",
       "</style>\n",
       "<table border=\"1\" class=\"dataframe\">\n",
       "  <thead>\n",
       "    <tr style=\"text-align: right;\">\n",
       "      <th></th>\n",
       "      <th>Temperature (F)</th>\n",
       "      <th>Ice-cream Price ($)</th>\n",
       "      <th>Number of Tourists (thousands)</th>\n",
       "      <th>Ice Cream Sales ($,thousands)</th>\n",
       "      <th>Did it rain on that day?</th>\n",
       "    </tr>\n",
       "  </thead>\n",
       "  <tbody>\n",
       "    <tr>\n",
       "      <th>0</th>\n",
       "      <td>80.6</td>\n",
       "      <td>1.0</td>\n",
       "      <td>89.5</td>\n",
       "      <td>90</td>\n",
       "      <td>0</td>\n",
       "    </tr>\n",
       "    <tr>\n",
       "      <th>1</th>\n",
       "      <td>75.2</td>\n",
       "      <td>1.0</td>\n",
       "      <td>86.4</td>\n",
       "      <td>85</td>\n",
       "      <td>0</td>\n",
       "    </tr>\n",
       "    <tr>\n",
       "      <th>2</th>\n",
       "      <td>86.0</td>\n",
       "      <td>2.0</td>\n",
       "      <td>99.2</td>\n",
       "      <td>107</td>\n",
       "      <td>0</td>\n",
       "    </tr>\n",
       "    <tr>\n",
       "      <th>3</th>\n",
       "      <td>75.2</td>\n",
       "      <td>2.0</td>\n",
       "      <td>72.4</td>\n",
       "      <td>71</td>\n",
       "      <td>1</td>\n",
       "    </tr>\n",
       "    <tr>\n",
       "      <th>4</th>\n",
       "      <td>60.8</td>\n",
       "      <td>2.0</td>\n",
       "      <td>71.2</td>\n",
       "      <td>65</td>\n",
       "      <td>1</td>\n",
       "    </tr>\n",
       "  </tbody>\n",
       "</table>\n",
       "</div>"
      ],
      "text/plain": [
       "   Temperature (F)  Ice-cream Price ($)  Number of Tourists (thousands)  \\\n",
       "0             80.6                  1.0                            89.5   \n",
       "1             75.2                  1.0                            86.4   \n",
       "2             86.0                  2.0                            99.2   \n",
       "3             75.2                  2.0                            72.4   \n",
       "4             60.8                  2.0                            71.2   \n",
       "\n",
       "   Ice Cream Sales ($,thousands)  Did it rain on that day?  \n",
       "0                             90                         0  \n",
       "1                             85                         0  \n",
       "2                            107                         0  \n",
       "3                             71                         1  \n",
       "4                             65                         1  "
      ]
     },
     "execution_count": 57,
     "metadata": {},
     "output_type": "execute_result"
    }
   ],
   "source": [
    "df.head(5)"
   ]
  },
  {
   "cell_type": "code",
   "execution_count": 60,
   "id": "883280e5-d48c-4270-a851-9e7255fc174a",
   "metadata": {},
   "outputs": [],
   "source": [
    "from sklearn.linear_model import LogisticRegression\n",
    "from sklearn.model_selection import train_test_split\n",
    "from sklearn import metrics"
   ]
  },
  {
   "cell_type": "code",
   "execution_count": null,
   "id": "01ea7a5a-79cb-42fe-84d4-573d5cca1273",
   "metadata": {},
   "outputs": [],
   "source": []
  },
  {
   "cell_type": "code",
   "execution_count": null,
   "id": "80cec0c0-e422-45b1-91f8-73c7a91344c3",
   "metadata": {},
   "outputs": [],
   "source": []
  },
  {
   "cell_type": "code",
   "execution_count": 89,
   "id": "20e3e197-a54a-40dd-ad27-94f14d3d0c45",
   "metadata": {},
   "outputs": [],
   "source": [
    "array = df.values\n",
    "X = df.iloc[:,0:4]\n",
    "y = df.iloc[:,4]\n",
    "X_train, X_test, y_train, y_test = train_test_split(X, y, test_size=0.3, random_state=1)"
   ]
  },
  {
   "cell_type": "code",
   "execution_count": 91,
   "id": "b4f2c2cf-f0c6-4049-9d66-c6de98441964",
   "metadata": {},
   "outputs": [
    {
     "data": {
      "text/html": [
       "<div>\n",
       "<style scoped>\n",
       "    .dataframe tbody tr th:only-of-type {\n",
       "        vertical-align: middle;\n",
       "    }\n",
       "\n",
       "    .dataframe tbody tr th {\n",
       "        vertical-align: top;\n",
       "    }\n",
       "\n",
       "    .dataframe thead th {\n",
       "        text-align: right;\n",
       "    }\n",
       "</style>\n",
       "<table border=\"1\" class=\"dataframe\">\n",
       "  <thead>\n",
       "    <tr style=\"text-align: right;\">\n",
       "      <th></th>\n",
       "      <th>Temperature (F)</th>\n",
       "      <th>Ice-cream Price ($)</th>\n",
       "      <th>Number of Tourists (thousands)</th>\n",
       "      <th>Ice Cream Sales ($,thousands)</th>\n",
       "    </tr>\n",
       "  </thead>\n",
       "  <tbody>\n",
       "    <tr>\n",
       "      <th>0</th>\n",
       "      <td>80.6</td>\n",
       "      <td>1.00</td>\n",
       "      <td>89.5</td>\n",
       "      <td>90</td>\n",
       "    </tr>\n",
       "    <tr>\n",
       "      <th>1</th>\n",
       "      <td>75.2</td>\n",
       "      <td>1.00</td>\n",
       "      <td>86.4</td>\n",
       "      <td>85</td>\n",
       "    </tr>\n",
       "    <tr>\n",
       "      <th>2</th>\n",
       "      <td>86.0</td>\n",
       "      <td>2.00</td>\n",
       "      <td>99.2</td>\n",
       "      <td>107</td>\n",
       "    </tr>\n",
       "    <tr>\n",
       "      <th>3</th>\n",
       "      <td>75.2</td>\n",
       "      <td>2.00</td>\n",
       "      <td>72.4</td>\n",
       "      <td>71</td>\n",
       "    </tr>\n",
       "    <tr>\n",
       "      <th>4</th>\n",
       "      <td>60.8</td>\n",
       "      <td>2.00</td>\n",
       "      <td>71.2</td>\n",
       "      <td>65</td>\n",
       "    </tr>\n",
       "    <tr>\n",
       "      <th>5</th>\n",
       "      <td>68.0</td>\n",
       "      <td>2.00</td>\n",
       "      <td>71.0</td>\n",
       "      <td>69</td>\n",
       "    </tr>\n",
       "    <tr>\n",
       "      <th>6</th>\n",
       "      <td>71.6</td>\n",
       "      <td>1.25</td>\n",
       "      <td>78.0</td>\n",
       "      <td>67</td>\n",
       "    </tr>\n",
       "    <tr>\n",
       "      <th>7</th>\n",
       "      <td>66.2</td>\n",
       "      <td>1.50</td>\n",
       "      <td>74.3</td>\n",
       "      <td>70</td>\n",
       "    </tr>\n",
       "    <tr>\n",
       "      <th>8</th>\n",
       "      <td>60.8</td>\n",
       "      <td>1.50</td>\n",
       "      <td>69.4</td>\n",
       "      <td>65</td>\n",
       "    </tr>\n",
       "    <tr>\n",
       "      <th>9</th>\n",
       "      <td>78.8</td>\n",
       "      <td>1.50</td>\n",
       "      <td>82.5</td>\n",
       "      <td>81</td>\n",
       "    </tr>\n",
       "    <tr>\n",
       "      <th>10</th>\n",
       "      <td>78.8</td>\n",
       "      <td>1.50</td>\n",
       "      <td>75.2</td>\n",
       "      <td>73</td>\n",
       "    </tr>\n",
       "    <tr>\n",
       "      <th>11</th>\n",
       "      <td>62.6</td>\n",
       "      <td>1.00</td>\n",
       "      <td>70.3</td>\n",
       "      <td>64</td>\n",
       "    </tr>\n",
       "    <tr>\n",
       "      <th>12</th>\n",
       "      <td>75.2</td>\n",
       "      <td>1.00</td>\n",
       "      <td>88.6</td>\n",
       "      <td>89</td>\n",
       "    </tr>\n",
       "    <tr>\n",
       "      <th>13</th>\n",
       "      <td>75.2</td>\n",
       "      <td>1.00</td>\n",
       "      <td>74.5</td>\n",
       "      <td>79</td>\n",
       "    </tr>\n",
       "    <tr>\n",
       "      <th>14</th>\n",
       "      <td>69.8</td>\n",
       "      <td>0.75</td>\n",
       "      <td>71.1</td>\n",
       "      <td>66</td>\n",
       "    </tr>\n",
       "    <tr>\n",
       "      <th>15</th>\n",
       "      <td>64.4</td>\n",
       "      <td>0.75</td>\n",
       "      <td>52.1</td>\n",
       "      <td>53</td>\n",
       "    </tr>\n",
       "    <tr>\n",
       "      <th>16</th>\n",
       "      <td>71.6</td>\n",
       "      <td>0.75</td>\n",
       "      <td>88.4</td>\n",
       "      <td>75</td>\n",
       "    </tr>\n",
       "    <tr>\n",
       "      <th>17</th>\n",
       "      <td>86.0</td>\n",
       "      <td>0.75</td>\n",
       "      <td>95.2</td>\n",
       "      <td>99</td>\n",
       "    </tr>\n",
       "    <tr>\n",
       "      <th>18</th>\n",
       "      <td>78.8</td>\n",
       "      <td>2.00</td>\n",
       "      <td>81.9</td>\n",
       "      <td>81</td>\n",
       "    </tr>\n",
       "    <tr>\n",
       "      <th>19</th>\n",
       "      <td>77.0</td>\n",
       "      <td>2.00</td>\n",
       "      <td>87.9</td>\n",
       "      <td>88</td>\n",
       "    </tr>\n",
       "  </tbody>\n",
       "</table>\n",
       "</div>"
      ],
      "text/plain": [
       "    Temperature (F)  Ice-cream Price ($)  Number of Tourists (thousands)  \\\n",
       "0              80.6                 1.00                            89.5   \n",
       "1              75.2                 1.00                            86.4   \n",
       "2              86.0                 2.00                            99.2   \n",
       "3              75.2                 2.00                            72.4   \n",
       "4              60.8                 2.00                            71.2   \n",
       "5              68.0                 2.00                            71.0   \n",
       "6              71.6                 1.25                            78.0   \n",
       "7              66.2                 1.50                            74.3   \n",
       "8              60.8                 1.50                            69.4   \n",
       "9              78.8                 1.50                            82.5   \n",
       "10             78.8                 1.50                            75.2   \n",
       "11             62.6                 1.00                            70.3   \n",
       "12             75.2                 1.00                            88.6   \n",
       "13             75.2                 1.00                            74.5   \n",
       "14             69.8                 0.75                            71.1   \n",
       "15             64.4                 0.75                            52.1   \n",
       "16             71.6                 0.75                            88.4   \n",
       "17             86.0                 0.75                            95.2   \n",
       "18             78.8                 2.00                            81.9   \n",
       "19             77.0                 2.00                            87.9   \n",
       "\n",
       "    Ice Cream Sales ($,thousands)  \n",
       "0                              90  \n",
       "1                              85  \n",
       "2                             107  \n",
       "3                              71  \n",
       "4                              65  \n",
       "5                              69  \n",
       "6                              67  \n",
       "7                              70  \n",
       "8                              65  \n",
       "9                              81  \n",
       "10                             73  \n",
       "11                             64  \n",
       "12                             89  \n",
       "13                             79  \n",
       "14                             66  \n",
       "15                             53  \n",
       "16                             75  \n",
       "17                             99  \n",
       "18                             81  \n",
       "19                             88  "
      ]
     },
     "execution_count": 91,
     "metadata": {},
     "output_type": "execute_result"
    }
   ],
   "source": [
    "X"
   ]
  },
  {
   "cell_type": "code",
   "execution_count": 93,
   "id": "e5ceaca8-67b6-4449-b7ca-7e64d781eeb9",
   "metadata": {},
   "outputs": [
    {
     "data": {
      "text/plain": [
       "0     0\n",
       "1     0\n",
       "2     0\n",
       "3     1\n",
       "4     1\n",
       "5     1\n",
       "6     1\n",
       "7     1\n",
       "8     1\n",
       "9     1\n",
       "10    1\n",
       "11    1\n",
       "12    1\n",
       "13    1\n",
       "14    1\n",
       "15    1\n",
       "16    1\n",
       "17    0\n",
       "18    0\n",
       "19    0\n",
       "Name: Did it rain on that day?, dtype: int64"
      ]
     },
     "execution_count": 93,
     "metadata": {},
     "output_type": "execute_result"
    }
   ],
   "source": [
    "y"
   ]
  },
  {
   "cell_type": "code",
   "execution_count": null,
   "id": "7bb11bb5-7440-4757-a76a-ba14bc6ccffa",
   "metadata": {},
   "outputs": [],
   "source": []
  },
  {
   "cell_type": "code",
   "execution_count": 97,
   "id": "a4045248-7d80-4a87-950c-764b1390ffb3",
   "metadata": {},
   "outputs": [
    {
     "name": "stdout",
     "output_type": "stream",
     "text": [
      "   Temperature (F)  Ice-cream Price ($)  Number of Tourists (thousands)  \\\n",
      "0        -0.328965            -0.337912                       -0.335795   \n",
      "\n",
      "   Ice Cream Sales ($,thousands)  intercept  \n",
      "0                        0.08893  46.525048  \n"
     ]
    }
   ],
   "source": [
    "model = LogisticRegression()\n",
    "model.fit(X_train, y_train)\n",
    "y_predict = model.predict(X_test)\n",
    "\n",
    "# Get the feature names from X_train\n",
    "t = X_train.columns\n",
    "\n",
    "\n",
    "coef_df = pd.DataFrame(model.coef_, columns= t)\n",
    "coef_df['intercept'] = model.intercept_\n",
    "print(coef_df)"
   ]
  },
  {
   "cell_type": "code",
   "execution_count": 100,
   "id": "c9b65bc0-175c-4ebb-8cd8-61cbb4869742",
   "metadata": {},
   "outputs": [
    {
     "name": "stdout",
     "output_type": "stream",
     "text": [
      "0.8333333333333334\n",
      "[[1 0]\n",
      " [1 4]]\n"
     ]
    }
   ],
   "source": [
    "model_score = model.score(X_test, y_test)\n",
    "print(model_score)\n",
    "print(metrics.confusion_matrix(y_test, y_predict))\n"
   ]
  },
  {
   "cell_type": "code",
   "execution_count": 102,
   "id": "f3cb0652-39b8-470a-8508-7a0da152af6b",
   "metadata": {},
   "outputs": [],
   "source": [
    "from sklearn import preprocessing"
   ]
  },
  {
   "cell_type": "code",
   "execution_count": 104,
   "id": "575dada8-a553-4eac-8310-76cc41627ba5",
   "metadata": {},
   "outputs": [],
   "source": [
    "x_train_scaled = preprocessing.scale(X_train)\n",
    "x_test_scaled = preprocessing.scale(X_test)"
   ]
  },
  {
   "cell_type": "code",
   "execution_count": 106,
   "id": "90d5db7b-a362-497d-bd33-3e1f479fd140",
   "metadata": {},
   "outputs": [
    {
     "name": "stdout",
     "output_type": "stream",
     "text": [
      "1.0\n",
      "[[1 0]\n",
      " [0 5]]\n"
     ]
    }
   ],
   "source": [
    "model = LogisticRegression()\n",
    "model.fit(x_train_scaled, y_train)\n",
    "y_predict = model.predict(x_test_scaled)\n",
    "model_score = model.score(x_test_scaled, y_test)\n",
    "print(model_score)\n",
    "print(metrics.confusion_matrix(y_test, y_predict))"
   ]
  },
  {
   "cell_type": "code",
   "execution_count": 108,
   "id": "dd78a703-a3c9-4236-b684-a53b6f5d40ee",
   "metadata": {},
   "outputs": [
    {
     "name": "stdout",
     "output_type": "stream",
     "text": [
      "1.0\n",
      "[[1 0]\n",
      " [0 5]]\n"
     ]
    }
   ],
   "source": [
    "# Fit the model on 30%\n",
    "model = LogisticRegression()\n",
    "model.fit(x_train_scaled, y_train)\n",
    "y_predict = model.predict(x_test_scaled)\n",
    "model_score = model.score(x_test_scaled, y_test)\n",
    "print(model_score)\n",
    "\n",
    "\n",
    "# IMPORTANT: first argument is true values, second argument is predicted values\n",
    "# this produces a 2x2 numpy array (matrix)\n",
    "print(metrics.confusion_matrix(y_test, y_predict))"
   ]
  }
 ],
 "metadata": {
  "kernelspec": {
   "display_name": "Python 3 (ipykernel)",
   "language": "python",
   "name": "python3"
  },
  "language_info": {
   "codemirror_mode": {
    "name": "ipython",
    "version": 3
   },
   "file_extension": ".py",
   "mimetype": "text/x-python",
   "name": "python",
   "nbconvert_exporter": "python",
   "pygments_lexer": "ipython3",
   "version": "3.12.4"
  }
 },
 "nbformat": 4,
 "nbformat_minor": 5
}
